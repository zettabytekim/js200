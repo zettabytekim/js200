{
 "cells": [
  {
   "cell_type": "markdown",
   "metadata": {},
   "source": [
    "# Part 1"
   ]
  },
  {
   "cell_type": "markdown",
   "metadata": {},
   "source": [
    "## 036. arguments 객체 이해하기"
   ]
  },
  {
   "cell_type": "markdown",
   "metadata": {},
   "source": [
    "- 매개 변수는 함수 선언 시 작성되는 변수\n",
    "- 전달 인자(argument)는 함수가 호출될 때 전달되는 값"
   ]
  },
  {
   "cell_type": "code",
   "execution_count": 1,
   "metadata": {},
   "outputs": [
    {
     "name": "stdout",
     "output_type": "stream",
     "text": [
      "false\n",
      "6\n",
      "[ 'a', 'b' ]\n",
      "1\n"
     ]
    },
    {
     "ename": "TypeError",
     "evalue": "arguments.indexOf is not a function",
     "output_type": "error",
     "traceback": [
      "evalmachine.<anonymous>:17",
      "    console.log(arguments.indexOf('b'));",
      "                          ^",
      "",
      "TypeError: arguments.indexOf is not a function",
      "    at testArr (evalmachine.<anonymous>:17:27)",
      "    at evalmachine.<anonymous>:20:1",
      "    at Script.runInThisContext (vm.js:116:20)",
      "    at Object.runInThisContext (vm.js:306:38)",
      "    at run ([eval]:1054:15)",
      "    at onRunRequest ([eval]:888:18)",
      "    at onMessage ([eval]:848:13)",
      "    at process.emit (events.js:210:5)",
      "    at emit (internal/child_process.js:878:12)",
      "    at processTicksAndRejections (internal/process/task_queues.js:81:21)"
     ]
    }
   ],
   "source": [
    "function sum() {\n",
    "    var total = 0;\n",
    "    for (var i = 0; i < arguments.length; i++) {\n",
    "        total += arguments[i];\n",
    "    }\n",
    "    console.log(arguments instanceof Array);\n",
    "    return total;    \n",
    "}\n",
    "\n",
    "var sumOf1to3 = sum(1, 2, 3);\n",
    "console.log(sumOf1to3);\n",
    "\n",
    "function testArr(params) {\n",
    "    var newArr = Array.prototype.slice.call(arguments);\n",
    "    console.log(newArr);\n",
    "    console.log(newArr.indexOf('b'));\n",
    "    console.log(arguments.indexOf('b'));\n",
    "}\n",
    "\n",
    "testArr('a', 'b');"
   ]
  },
  {
   "cell_type": "markdown",
   "metadata": {},
   "source": [
    "## 037. 함수 기본 매개변수 처리하기"
   ]
  },
  {
   "cell_type": "code",
   "execution_count": 2,
   "metadata": {},
   "outputs": [
    {
     "name": "stdout",
     "output_type": "stream",
     "text": [
      "100 X 400 차트를 그립니다.\n",
      "200 X 400 차트를 그립니다.\n",
      "\n",
      "300 X 150 차트를 그립니다.\n",
      "200 X 100 차트를 그립니다.\n"
     ]
    }
   ],
   "source": [
    "function drawChart(width = 200, height = 400) {\n",
    "    console.log(`${width} X ${height} 차트를 그립니다.`);\n",
    "}\n",
    "drawChart(100);\n",
    "drawChart();\n",
    "console.log();\n",
    "\n",
    "\n",
    "function drawChart2(width = 200, height = width / 2) {\n",
    "    console.log(`${width} X ${height} 차트를 그립니다.`);\n",
    "}\n",
    "drawChart2(300);\n",
    "drawChart2();"
   ]
  },
  {
   "cell_type": "markdown",
   "metadata": {},
   "source": [
    "## 038. 함수 나머지 매개변수 이해하기"
   ]
  },
  {
   "cell_type": "markdown",
   "metadata": {},
   "source": [
    "- arguments 객체와 나머지 매개변수와의 큰 차이점은   \n",
    "  arguments 객체는 배열이 아니지만 나머지 매개변수는 배열이라는 점입니다."
   ]
  },
  {
   "cell_type": "code",
   "execution_count": 1,
   "metadata": {},
   "outputs": [
    {
     "name": "stdout",
     "output_type": "stream",
     "text": [
      "0\n",
      "6\n",
      "3\n",
      "10\n"
     ]
    }
   ],
   "source": [
    "function sum(...args) {\n",
    "    var total = 0;\n",
    "    for (var i= 0; i < args.length; i++) {\n",
    "        total += args[i];\n",
    "    }\n",
    "    console.log(args.indexOf(1));\n",
    "    return total;\n",
    "}\n",
    "console.log(sum(1, 2, 3));\n",
    "\n",
    "function sum2(a, b, ...others) {\n",
    "    var total = a + b;\n",
    "    for (var i = 0; i < others.length; i++) {\n",
    "        total += others[i];\n",
    "    }\n",
    "    return total;\n",
    "}\n",
    "console.log(sum2(1, 2));\n",
    "console.log(sum2(1, 2, 3, 4));"
   ]
  },
  {
   "cell_type": "markdown",
   "metadata": {},
   "source": [
    "## 039. 스코프 이해하기"
   ]
  },
  {
   "cell_type": "code",
   "execution_count": 1,
   "metadata": {},
   "outputs": [
    {
     "name": "stdout",
     "output_type": "stream",
     "text": [
      "10\n",
      "30\n"
     ]
    },
    {
     "ename": "ReferenceError",
     "evalue": "b is not defined",
     "output_type": "error",
     "traceback": [
      "evalmachine.<anonymous>:13",
      "console.log(b);",
      "            ^",
      "",
      "ReferenceError: b is not defined",
      "    at evalmachine.<anonymous>:13:13",
      "    at Script.runInThisContext (vm.js:116:20)",
      "    at Object.runInThisContext (vm.js:306:38)",
      "    at run ([eval]:1054:15)",
      "    at onRunRequest ([eval]:888:18)",
      "    at onMessage ([eval]:848:13)",
      "    at process.emit (events.js:210:5)",
      "    at emit (internal/child_process.js:878:12)",
      "    at processTicksAndRejections (internal/process/task_queues.js:81:21)"
     ]
    }
   ],
   "source": [
    "var a = 10;\n",
    "console.log(a);\n",
    "\n",
    "function print() {\n",
    "    var b = 20;\n",
    "    if (true) {\n",
    "        var c = 30;\n",
    "    }\n",
    "    console.log(c);\n",
    "}\n",
    "\n",
    "print();\n",
    "console.log(b);"
   ]
  },
  {
   "cell_type": "markdown",
   "metadata": {},
   "source": [
    "- 스코프틑 일반적으로 Lexical Scope와 Dynamic 스코프로 분류됩니다.  \n",
    "  렉시컬 스코프틑 코드를 작성하는 시점에 스코프가 결정되어진다고 해서 정적 스코프라고도 부름,  \n",
    "  자바스크립트는 대표적인 렉시컬 스코프입니다."
   ]
  },
  {
   "cell_type": "markdown",
   "metadata": {},
   "source": [
    "## 040. 함수 호이스팅 이해하기"
   ]
  },
  {
   "cell_type": "code",
   "execution_count": 1,
   "metadata": {},
   "outputs": [
    {
     "name": "stdout",
     "output_type": "stream",
     "text": [
      "안녕하세요\n"
     ]
    }
   ],
   "source": [
    "hello();\n",
    "function hello() {\n",
    "    console.log(\"안녕하세요\");\n",
    "}"
   ]
  },
  {
   "cell_type": "code",
   "execution_count": 2,
   "metadata": {},
   "outputs": [
    {
     "ename": "TypeError",
     "evalue": "hello2 is not a function",
     "output_type": "error",
     "traceback": [
      "evalmachine.<anonymous>:1",
      "hello2();",
      "^",
      "",
      "TypeError: hello2 is not a function",
      "    at evalmachine.<anonymous>:1:1",
      "    at Script.runInThisContext (vm.js:116:20)",
      "    at Object.runInThisContext (vm.js:306:38)",
      "    at run ([eval]:1054:15)",
      "    at onRunRequest ([eval]:888:18)",
      "    at onMessage ([eval]:848:13)",
      "    at process.emit (events.js:210:5)",
      "    at emit (internal/child_process.js:878:12)",
      "    at processTicksAndRejections (internal/process/task_queues.js:81:21)"
     ]
    }
   ],
   "source": [
    "hello2();\n",
    "var hello2 = function () {\n",
    "    console.log(\"안녕하세요\");\n",
    "}"
   ]
  },
  {
   "cell_type": "markdown",
   "metadata": {},
   "source": [
    "## 041. let으로 변수 선언하기"
   ]
  },
  {
   "cell_type": "markdown",
   "metadata": {},
   "source": [
    "- ES6부터 변수 유효 범위를 블록 범위로 지정 "
   ]
  },
  {
   "cell_type": "code",
   "execution_count": 4,
   "metadata": {},
   "outputs": [
    {
     "name": "stdout",
     "output_type": "stream",
     "text": [
      "global\n"
     ]
    },
    {
     "ename": "ReferenceError",
     "evalue": "blockScopeValue is not defined",
     "output_type": "error",
     "traceback": [
      "evalmachine.<anonymous>:6",
      "console.log(blockScopeValue);",
      "            ^",
      "",
      "ReferenceError: blockScopeValue is not defined",
      "    at evalmachine.<anonymous>:6:13",
      "    at Script.runInThisContext (vm.js:116:20)",
      "    at Object.runInThisContext (vm.js:306:38)",
      "    at run ([eval]:1054:15)",
      "    at onRunRequest ([eval]:888:18)",
      "    at onMessage ([eval]:848:13)",
      "    at process.emit (events.js:210:5)",
      "    at emit (internal/child_process.js:878:12)",
      "    at processTicksAndRejections (internal/process/task_queues.js:81:21)"
     ]
    }
   ],
   "source": [
    "if (true) {\n",
    "    var functionScopeValue = \"global\";\n",
    "    let blockScopeValue = \"local\";\n",
    "}\n",
    "console.log(functionScopeValue);\n",
    "console.log(blockScopeValue);"
   ]
  },
  {
   "cell_type": "code",
   "execution_count": null,
   "metadata": {},
   "outputs": [],
   "source": []
  }
 ],
 "metadata": {
  "kernelspec": {
   "display_name": "Javascript (Node.js)",
   "language": "javascript",
   "name": "javascript"
  },
  "language_info": {
   "file_extension": ".js",
   "mimetype": "application/javascript",
   "name": "javascript",
   "version": "13.2.0"
  }
 },
 "nbformat": 4,
 "nbformat_minor": 2
}
