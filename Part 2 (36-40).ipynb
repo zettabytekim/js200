{
 "cells": [
  {
   "cell_type": "markdown",
   "metadata": {},
   "source": [
    "# Part 1"
   ]
  },
  {
   "cell_type": "markdown",
   "metadata": {},
   "source": [
    "## 036. arguments 객체 이해하기"
   ]
  },
  {
   "cell_type": "markdown",
   "metadata": {},
   "source": [
    "- 매개 변수는 함수 선언 시 작성되는 변수\n",
    "- 전달 인자(argument)는 함수가 호출될 때 전달되는 값"
   ]
  },
  {
   "cell_type": "code",
   "execution_count": 1,
   "metadata": {},
   "outputs": [
    {
     "name": "stdout",
     "output_type": "stream",
     "text": [
      "false\n",
      "6\n",
      "[ 'a', 'b' ]\n",
      "1\n"
     ]
    },
    {
     "ename": "TypeError",
     "evalue": "arguments.indexOf is not a function",
     "output_type": "error",
     "traceback": [
      "evalmachine.<anonymous>:17",
      "    console.log(arguments.indexOf('b'));",
      "                          ^",
      "",
      "TypeError: arguments.indexOf is not a function",
      "    at testArr (evalmachine.<anonymous>:17:27)",
      "    at evalmachine.<anonymous>:20:1",
      "    at Script.runInThisContext (vm.js:116:20)",
      "    at Object.runInThisContext (vm.js:306:38)",
      "    at run ([eval]:1054:15)",
      "    at onRunRequest ([eval]:888:18)",
      "    at onMessage ([eval]:848:13)",
      "    at process.emit (events.js:210:5)",
      "    at emit (internal/child_process.js:878:12)",
      "    at processTicksAndRejections (internal/process/task_queues.js:81:21)"
     ]
    }
   ],
   "source": [
    "function sum() {\n",
    "    var total = 0;\n",
    "    for (var i = 0; i < arguments.length; i++) {\n",
    "        total += arguments[i];\n",
    "    }\n",
    "    console.log(arguments instanceof Array);\n",
    "    return total;    \n",
    "}\n",
    "\n",
    "var sumOf1to3 = sum(1, 2, 3);\n",
    "console.log(sumOf1to3);\n",
    "\n",
    "function testArr(params) {\n",
    "    var newArr = Array.prototype.slice.call(arguments);\n",
    "    console.log(newArr);\n",
    "    console.log(newArr.indexOf('b'));\n",
    "    console.log(arguments.indexOf('b'));\n",
    "}\n",
    "\n",
    "testArr('a', 'b');"
   ]
  },
  {
   "cell_type": "markdown",
   "metadata": {},
   "source": [
    "## 37. 함수 기본 매개변수 처리하기"
   ]
  },
  {
   "cell_type": "code",
   "execution_count": 2,
   "metadata": {},
   "outputs": [
    {
     "name": "stdout",
     "output_type": "stream",
     "text": [
      "100 X 400 차트를 그립니다.\n",
      "200 X 400 차트를 그립니다.\n",
      "\n",
      "300 X 150 차트를 그립니다.\n",
      "200 X 100 차트를 그립니다.\n"
     ]
    }
   ],
   "source": [
    "function drawChart(width = 200, height = 400) {\n",
    "    console.log(`${width} X ${height} 차트를 그립니다.`);\n",
    "}\n",
    "drawChart(100);\n",
    "drawChart();\n",
    "console.log();\n",
    "\n",
    "\n",
    "function drawChart2(width = 200, height = width / 2) {\n",
    "    console.log(`${width} X ${height} 차트를 그립니다.`);\n",
    "}\n",
    "drawChart2(300);\n",
    "drawChart2();"
   ]
  },
  {
   "cell_type": "code",
   "execution_count": null,
   "metadata": {},
   "outputs": [],
   "source": []
  }
 ],
 "metadata": {
  "kernelspec": {
   "display_name": "Javascript (Node.js)",
   "language": "javascript",
   "name": "javascript"
  },
  "language_info": {
   "file_extension": ".js",
   "mimetype": "application/javascript",
   "name": "javascript",
   "version": "13.2.0"
  }
 },
 "nbformat": 4,
 "nbformat_minor": 2
}
