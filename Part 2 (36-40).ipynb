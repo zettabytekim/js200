{
 "cells": [
  {
   "cell_type": "markdown",
   "metadata": {},
   "source": [
    "# Part 1"
   ]
  },
  {
   "cell_type": "markdown",
   "metadata": {},
   "source": [
    "## 036. arguments 객체 이해하기"
   ]
  },
  {
   "cell_type": "markdown",
   "metadata": {},
   "source": [
    "- 매개 변수는 함수 선언 시 작성되는 변수\n",
    "- 전달 인자(argument)는 함수가 호출될 때 전달되는 값"
   ]
  },
  {
   "cell_type": "code",
   "execution_count": 1,
   "metadata": {},
   "outputs": [
    {
     "name": "stdout",
     "output_type": "stream",
     "text": [
      "false\n",
      "6\n"
     ]
    }
   ],
   "source": [
    "function sum() {\n",
    "    var total = 0;\n",
    "    for (var i = 0; i < arguments.length; i++) {\n",
    "        total += arguments[i];\n",
    "    }\n",
    "    console.log(arguments instanceof Array);\n",
    "    return total;    \n",
    "}\n",
    "\n",
    "var sumOf1to3 = sum(1, 2, 3);\n",
    "console.log(sumOf1to3);"
   ]
  },
  {
   "cell_type": "code",
   "execution_count": null,
   "metadata": {},
   "outputs": [],
   "source": []
  }
 ],
 "metadata": {
  "kernelspec": {
   "display_name": "Javascript (Node.js)",
   "language": "javascript",
   "name": "javascript"
  },
  "language_info": {
   "file_extension": ".js",
   "mimetype": "application/javascript",
   "name": "javascript",
   "version": "13.2.0"
  }
 },
 "nbformat": 4,
 "nbformat_minor": 2
}
